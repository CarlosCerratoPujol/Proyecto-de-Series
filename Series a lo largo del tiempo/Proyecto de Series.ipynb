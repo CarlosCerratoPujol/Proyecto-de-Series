{
 "cells": [
  {
   "cell_type": "markdown",
   "metadata": {},
   "source": [
    "# Peliculas más populares a lo largo del tiempo\n",
    "\n",
    "\n",
    "## Proyecto realizado por Carlos Cerrato Pujol\n",
    "\n",
    "Para mi trabajo me basaré en una tabla que recoge los datos de las series más populares a lo largo del tiempo.\n",
    "\n",
    "\n",
    "Primero insertaré una serie de módulos"
   ]
  },
  {
   "cell_type": "code",
   "execution_count": 12,
   "metadata": {},
   "outputs": [],
   "source": [
    "import csv\n",
    "import matplotlib \n",
    "import math"
   ]
  },
  {
   "cell_type": "markdown",
   "metadata": {},
   "source": [
    "# Función de lectura del archivo CSV"
   ]
  },
  {
   "cell_type": "code",
   "execution_count": 13,
   "metadata": {},
   "outputs": [],
   "source": [
    "#Lo que hace es leer el archivo csv y convertirlo en una lista de tuplas:\n",
    "def lee_series(datos_de_series):\n",
    "    with open(datos_de_series, encoding='utf-8') as f: \n",
    "        lector = csv.reader(f)\n",
    "        next(lector)\n",
    "        series = [(Title, int(Seasons), int(Episodes), Country, Premiere_Year, Final_Year, Original_Channel,Technique) for Title, Seasons, Episodes, Country, Premiere_Year, Final_Year, Original_Channel, Technique in lector]\n",
    "        return series"
   ]
  },
  {
   "cell_type": "code",
   "execution_count": 14,
   "metadata": {},
   "outputs": [
    {
     "name": "stdout",
     "output_type": "stream",
     "text": [
      "[('¡Mucha Lucha!', 3, 52, 'United States', '2002', '2005', \"Kids' WB\", 'Flash'), ('10+2', 1, 52, 'Spain', '1994', '1994', 'Televisió de Catalunya, KiKa', 'Traditional'), ('100% Wolf: Legend of the Moonstone', 2, 26, 'Australia', '2020', 'Present', 'ABC Me', 'CGI'), ('1001 Nights', 2, 52, 'Canada', '2011', '2012', 'Teletoon', 'Flash'), ('101 Dalmatian Street', 1, 40, 'United Kingdom, Canada', '2019', '2020', 'Disney Channel, Disney+', 'Toon Boom Harmony')]\n"
     ]
    }
   ],
   "source": [
    "series = lee_series(\"datos_de_series\")\n",
    "print(series [:5])"
   ]
  },
  {
   "cell_type": "markdown",
   "metadata": {},
   "source": [
    "# Función de transformación\n",
    "\n",
    "Tenemos un montón de series publicadas en muchos países diferentes, veamos de que países se trata. Tomaré los elementos en la columna país en una lista y lo pasaré a un conjunto para que no se repitan."
   ]
  },
  {
   "cell_type": "code",
   "execution_count": 15,
   "metadata": {},
   "outputs": [],
   "source": [
    "def calcula_paises(series):\n",
    "    lista_paises = []\n",
    "    for tupla in series:\n",
    "        paises = tupla[3] #el elemento nº 3 es el continente.\n",
    "        lista_paises.append(paises)\n",
    "    lista_paises = set(lista_paises)\n",
    "    return lista_paises"
   ]
  },
  {
   "cell_type": "code",
   "execution_count": 16,
   "metadata": {},
   "outputs": [
    {
     "name": "stdout",
     "output_type": "stream",
     "text": [
      "{'Britain, United States', 'Australia, Canada', 'Finland', 'Canada, Spain, UK', 'Britain, France', 'Philippines', 'US, UK', 'Canada,USA', 'United States', 'Russia', 'Canada, United States', 'United States, France', 'USA', 'Australia, Canada, United States', 'United States, Italian', 'Nigeria', 'China, United States', 'Thailand, Japan', 'Canada, France', 'Thailand', 'US,UK', 'Italy, Spain', 'United Kingdom, United States, Canada, Finland', 'Spain', 'Italian', 'Canada, Britain', 'France, India, United States', 'Ireland', 'Britain', 'Netherlands, Germany, Japan', 'Brazil', 'France, Belgium, Canada', 'Australia, Germany', 'Canada, France, Germany', 'United Kingdom, Canada', 'United States, Canada, United Kingdom', 'Britain, Canada', 'UK', 'France, South Korea, Spain', 'Canada, US', 'Canada', 'France, US', 'Ireland, United States', 'Malaysia', 'US, France', 'China', 'Argentina', 'Italy, Latin America', 'Belgium, Canada, France', 'Brazil, United States', 'United Kingdom', 'Denmark, Britain', 'India', 'US', 'Canada, China', 'France', 'Poland', 'South Korea', 'South Korea, United States', 'Italy', 'Kuwait', 'US, Canada', 'South Korea, United Kingdom, Spain', 'France, Italy, Japan', 'Canada, Philippines', 'Australia', 'Australia, India, Ireland, Italy, Singapore'}\n",
      "El número total de paises es 67\n"
     ]
    }
   ],
   "source": [
    "#prueba de la función\n",
    "paises = calcula_paises(series)\n",
    "print(paises)\n",
    "\n",
    "print(\"El número total de paises es\", len(paises))"
   ]
  },
  {
   "cell_type": "markdown",
   "metadata": {},
   "source": [
    "# Función de filtrado \n",
    "\n",
    "Ahora voy a crear una función que nos devuelva solo las series que tengan más de 200 episodios y por otra parte las que tengan 4 temporadas o más"
   ]
  },
  {
   "cell_type": "code",
   "execution_count": 17,
   "metadata": {},
   "outputs": [],
   "source": [
    "def filtra_por_paises(series, episodios):\n",
    "    filtrados = [(a) for a, b, c, d, e, f, g, h in series if c > episodios]\n",
    "    return filtrados"
   ]
  },
  {
   "cell_type": "code",
   "execution_count": 18,
   "metadata": {
    "scrolled": true
   },
   "outputs": [
    {
     "name": "stdout",
     "output_type": "stream",
     "text": [
      "['3000 Whys of Blue Cat', 'Adventure Time', 'Allsorts', 'American Dad!', 'Angelo Rules', 'Annoying Orange', 'Arthur', 'Be-Be-Bears', 'Beavis and Butt-head']\n"
     ]
    }
   ],
   "source": [
    "filtrado_por_paises = filtra_por_paises(series, 200)\n",
    "print (filtrado_por_paises)"
   ]
  },
  {
   "cell_type": "code",
   "execution_count": 33,
   "metadata": {},
   "outputs": [],
   "source": [
    "#Ahora las series con más de 4 trmporadas:\n",
    "\n",
    "def filtra_por_paises(series, Seasons):\n",
    "    filtrados = [(a) for a, b, c, d, e, f, g, h in series if b >= Seasons]\n",
    "    return filtrados\n"
   ]
  },
  {
   "cell_type": "code",
   "execution_count": 39,
   "metadata": {},
   "outputs": [
    {
     "name": "stdout",
     "output_type": "stream",
     "text": [
      "['A Pup Named Scooby-Doo', 'Aaahh!!! Real Monsters', \"Abby's Flying Fairy School\", 'Adventure Time', 'Alejo & Valentina', 'All Grown Up!', 'All Hail King Julien', 'Allen Gregory', 'Allsorts', 'Alphablocks', 'Alphablocks', 'ALVINNN!!! and the Chipmunks', 'American Dad!', \"Angel's Friends\", 'Angelina Ballerina: The Next Steps', 'Angry Kid', 'Animal Stories', 'Animalia', 'Animaniacs', 'Annedroids', 'Annoying Orange', 'Ape Escape', 'Aqua Teen Hunger Force', 'Archer', 'Arthur', 'As Aventuras de Gui & Estopa', 'Astro Farm', 'Avengers Assemble', 'Babar', 'Baby Looney Tunes', 'Battle for Dream Island', 'Be-Be-Bears', 'Beavis and Butt-head', 'Beetlejuice', \"Ben & Holly's Little Kingdom\", 'Ben 10 (2005)', 'Ben 10 (2016)', 'Ben 10: Omniverse', 'Best & Bester', 'Best Furry Friends', 'Between the Lions', 'Big Mouth', \"Blue's Clues\", 'Bubble Guppies', 'Caillou', 'Cake', 'Camp Lazlo', 'Captain Planet and the Planeteers', 'Carl²', 'CatDog']\n",
      "El número de series con más de 4 temporadas es 50\n"
     ]
    }
   ],
   "source": [
    "filtrado_por_paises = filtra_por_paises(series, 4)\n",
    "print (filtrado_por_paises)\n",
    "print(\"El número de series con más de 4 temporadas es\", len(filtrado_por_paises) )"
   ]
  },
  {
   "cell_type": "code",
   "execution_count": null,
   "metadata": {},
   "outputs": [],
   "source": []
  },
  {
   "cell_type": "code",
   "execution_count": null,
   "metadata": {},
   "outputs": [],
   "source": []
  },
  {
   "cell_type": "code",
   "execution_count": null,
   "metadata": {},
   "outputs": [],
   "source": []
  }
 ],
 "metadata": {
  "kernelspec": {
   "display_name": "Python 3",
   "language": "python",
   "name": "python3"
  },
  "language_info": {
   "codemirror_mode": {
    "name": "ipython",
    "version": 3
   },
   "file_extension": ".py",
   "mimetype": "text/x-python",
   "name": "python",
   "nbconvert_exporter": "python",
   "pygments_lexer": "ipython3",
   "version": "3.7.3"
  }
 },
 "nbformat": 4,
 "nbformat_minor": 5
}
